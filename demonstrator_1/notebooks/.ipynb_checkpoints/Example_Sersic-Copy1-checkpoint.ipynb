{
 "cells": [
  {
   "cell_type": "markdown",
   "metadata": {},
   "source": [
    "# How to: build an N-body self-consistent model from a Sersic law\n",
    "This short tutorial explains how to use the (old-version) package *pygme* to build a self-consistent model with particles.\n",
    "The basis for this can be found in papers written in the 90's, namely:\n",
    "* Monnet et al. 1992\n",
    "* Emsellem et al. 1994\n",
    "\n",
    "See Emsellem et al. 1999 on the modelling of NGC3115 for a more detailed example."
   ]
  },
  {
   "cell_type": "markdown",
   "metadata": {},
   "source": [
    "# 0 - Importing the modules"
   ]
  },
  {
   "cell_type": "code",
   "execution_count": 1,
   "metadata": {},
   "outputs": [
    {
     "name": "stdout",
     "output_type": "stream",
     "text": [
      "WARNING: Only mpfit is available an optimiser\n",
      "WARNING: you may want to install lmfit!\n",
      "WARNING: Only mpfit is available as an optimiser\n",
      "WARNING: you may want to install lmfit\n",
      "WARNING: Only mpfit is available an optimiser\n",
      "WARNING: you may want to install lmfit!\n",
      "WARNING: The routine will therefore use mpfit\n",
      "         Available from pygme.fitting\n",
      "WARNING: Only mpfit is available an optimiser\n",
      "WARNING: you may want to install lmfit!\n",
      "WARNING: OpenOpt was not found so only nnls is available as a linmethod\n"
     ]
    }
   ],
   "source": [
    "# importing modules\n",
    "import numpy as np\n",
    "# pygme itself\n",
    "import pygme\n",
    "# the fitting for N 2Dimensional Gaussians\n",
    "from pygme.fitting import fitn2dgauss"
   ]
  },
  {
   "cell_type": "markdown",
   "metadata": {},
   "source": [
    "You can ignore the warnings above. This comes from an import of lmfit, which is by default not installed.\n",
    "Note: all the pygme code has been made compatible with python3 using *2to3*. A new version of pygme is being developed which is more pythonic and more robust, but this is written entirely from scratch."
   ]
  },
  {
   "cell_type": "markdown",
   "metadata": {},
   "source": [
    "# 1 - Setting up the Sersic Law\n",
    "Now we are going to use the Sersic module to set up a luminosity profile"
   ]
  },
  {
   "cell_type": "code",
   "execution_count": 2,
   "metadata": {},
   "outputs": [
    {
     "name": "stdout",
     "output_type": "stream",
     "text": [
      "/home/emsellem/anaconda3/lib/python3.6/site-packages/pygme/astroprofiles/data/Abel_param.dat\n"
     ]
    }
   ],
   "source": [
    "# We import the module\n",
    "from pygme.astroprofiles import sersic\n",
    "# We first set up a sampling in radius (in parsec)\n",
    "# From let's say 1 pc to about 10000 pc\n",
    "rsamp = np.logspace(0.,4.,1001)\n",
    "# now we get the profile itself - Re = 1.5kpc, rsamp goes to 6000pc, hence 4 Re\n",
    "myprofile = sersic.SersicProfile(n=2, Ie=1.0, Re=1500.0, rsamp=rsamp)"
   ]
  },
  {
   "cell_type": "markdown",
   "metadata": {},
   "source": [
    "Let's **plot the profile** to check that everything is fine"
   ]
  },
  {
   "cell_type": "code",
   "execution_count": 3,
   "metadata": {},
   "outputs": [
    {
     "data": {
      "text/plain": [
       "Text(0,0.5,'Sersic law - projected profile [log10]')"
      ]
     },
     "execution_count": 3,
     "metadata": {},
     "output_type": "execute_result"
    },
    {
     "data": {
      "image/png": "[encoded data removed]",
      "text/plain": [
       "<Figure size 432x288 with 1 Axes>"
      ]
     },
     "metadata": {},
     "output_type": "display_data"
    }
   ],
   "source": [
    "%matplotlib inline\n",
    "plot(myprofile.r, np.log10(myprofile.rhop))\n",
    "xlabel(\"R [parsec]\")\n",
    "ylabel(\"Sersic law - projected profile [log10]\")"
   ]
  },
  {
   "cell_type": "markdown",
   "metadata": {},
   "source": [
    "## 2 - Fitting the profile\n",
    "Now it's time to fit this with a **Multi-Gaussian Expansion (MGE) model**.\n",
    "\n",
    "Here it goes:"
   ]
  },
  {
   "cell_type": "code",
   "execution_count": 4,
   "metadata": {
    "scrolled": true
   },
   "outputs": [
    {
     "name": "stdout",
     "output_type": "stream",
     "text": [
      "------ Starting the minimisation -------\n",
      "Chi2 =  0.03401247668358233\n",
      "Chi2 =  0.03271695729591103\n",
      "Chi2 =  0.02807127909336127\n",
      "Chi2 =  0.021951761362178232\n",
      "Chi2 =  0.01385692240032211\n",
      "Chi2 =  0.005830893985676777\n",
      "Chi2 =  0.002529349507514904\n",
      "Chi2 =  0.0015091430926555802\n",
      "Chi2 =  0.0009185854187578955\n",
      "Chi2 =  0.0006017745159561135\n",
      "Chi2 =  0.000443713005382672\n",
      "Chi2 =  0.00035911181266353316\n",
      "Chi2 =  0.00030773101288431265\n",
      "Chi2 =  0.0002738472523774433\n",
      "Chi2 =  0.00025047447935496066\n",
      "Chi2 =  0.00023388521172980743\n",
      "Chi2 =  0.00022187425688401408\n",
      "Chi2 =  0.00021305337242483486\n",
      "Chi2 =  0.00020650760212260019\n",
      "Chi2 =  0.00020161277602761605\n",
      "Chi2 =  0.00019793167660068527\n",
      "Chi2 =  0.0001951516259500183\n",
      "Chi2 =  0.0001930455291003418\n",
      "Chi2 =  0.000191446347590985\n",
      "Chi2 =  0.0001902299381605673\n",
      "Chi2 =  0.00018930355574315667\n",
      "Chi2 =  0.0001885974082494921\n",
      "Chi2 =  0.00018805877709634895\n",
      "Chi2 =  0.00018764775723875286\n",
      "Chi2 =  0.0001873340040827053\n",
      "Chi2 =  0.00018709444545047794\n",
      "Chi2 =  0.00018691150231478455\n",
      "Chi2 =  0.00018677178828772727\n",
      "Chi2 =  0.00018666508579324277\n",
      "Chi2 =  0.00018658359578251613\n",
      "Chi2 =  0.0001865213575579372\n",
      "Chi2 =  0.00018647382154955873\n",
      "Chi2 =  0.00018643751856490574\n",
      "Chi2 =  0.00018640979638964042\n",
      "Chi2 =  0.00018638861977255373\n",
      "Chi2 =  0.00018637245397915532\n",
      "Chi2 =  0.00018636010754105343\n",
      "Chi2 =  0.00018635067936675472\n",
      "Chi2 =  0.0001863434803552616\n",
      "Chi2 =  0.00018633798354310667\n",
      "Chi2 =  0.00018633378734915428\n",
      "Chi2 =  0.00018633058190776824\n",
      "Chi2 =  0.00018632813527391003\n",
      "Chi2 =  0.0001863262661774964\n",
      "Chi2 =  0.00018632483999646887\n",
      "Chi2 =  0.0001863237517861434\n",
      "Chi2 =  0.00018632292045665788\n",
      "Chi2 =  0.00018632228524732215\n",
      "Chi2 =  0.00018632179983198846\n",
      "Chi2 =  0.00018632142953945485\n",
      "Chi2 =  0.0001863211466660236\n",
      "Chi2 =  0.00018632093081850994\n",
      "Chi2 =  0.00018632076600191906\n",
      "Chi2 =  0.0001863206405796025\n",
      "Chi2 =  0.0001863205447655354\n",
      "Chi2 =  0.00018632047148933146\n",
      "Chi2 =  0.00018632041579133275\n",
      "Chi2 =  0.00018632037306166814\n",
      "Chi2 =  0.00018632034046753298\n",
      "Chi2 =  0.00018632031555372613\n",
      "Chi2 =  0.00018632029662504006\n",
      "Chi2 =  0.00018632028208219218\n",
      "Chi2 =  0.0001863202710848021\n",
      "Chi2 =  0.0001863202626301148\n",
      "Chi2 =  0.00018632025610962804\n",
      "Chi2 =  0.0001863202512373248\n",
      "Chi2 =  0.00018632024746353625\n",
      "Chi2 =  0.00018632024458214294\n",
      "Chi2 =  0.00018632024235813195\n",
      "Chi2 =  0.00018632024065698806\n",
      "Chi2 =  0.00018632023938751767\n",
      "Chi2 =  0.00018632023839272564\n",
      "Chi2 =  0.0001863202376356655\n",
      "Chi2 =  0.0001863202370769109\n",
      "Chi2 =  0.00018632023664919277\n",
      "Chi2 =  0.00018632023632544778\n",
      "Chi2 =  0.00018632023607033878\n",
      "Chi2 =  0.00018632023588176761\n",
      "Chi2 =  0.0001863202357326016\n",
      "Chi2 =  0.00018632023561779496\n",
      "Chi2 =  0.00018632023553331954\n",
      "Chi2 =  0.00018632023546820848\n",
      "Chi2 =  0.00018632023541963975\n",
      "Chi2 =  0.000186320235380961\n",
      "Chi2 =  0.00018632023534767306\n",
      "Chi2 =  0.0001863202353237014\n",
      "Chi2 =  0.00018632023530426294\n",
      "Chi2 =  0.00018632023529191124\n",
      "=============================\n",
      "FIT:      Imax       Sig   \n",
      "=============================\n",
      "GAUSS 01: 1.795e+00     1.122\n",
      "GAUSS 02: 2.497e+00     2.949\n",
      "GAUSS 03: 3.295e+00     7.123\n",
      "GAUSS 04: 4.084e+00    16.048\n",
      "GAUSS 05: 4.708e+00    34.020\n",
      "GAUSS 06: 4.980e+00    68.276\n",
      "GAUSS 07: 4.757e+00   130.288\n",
      "GAUSS 08: 4.027e+00   237.183\n",
      "GAUSS 09: 2.960e+00   413.116\n",
      "GAUSS 10: 1.851e+00   690.556\n",
      "GAUSS 11: 9.685e-01  1113.153\n",
      "GAUSS 12: 4.179e-01  1751.677\n",
      "GAUSS 13: 1.385e-01  2786.810\n",
      "GAUSS 14: 2.253e-02  4885.628\n",
      "Chi2:  0.0001863202352820653  Reduced Chi2:  1.8613410118088443e-07\n"
     ]
    },
    {
     "name": "stderr",
     "output_type": "stream",
     "text": [
      "/home/emsellem/anaconda3/lib/python3.6/site-packages/pygme/fitting/mpfit.py:2268: VisibleDeprecationWarning: `rank` is deprecated; use the `ndim` attribute or function instead. To find the rank of a matrix see `numpy.linalg.matrix_rank`.\n",
      "  if numpy.rank(rr) != 2:\n"
     ]
    }
   ],
   "source": [
    "# Defining the maximum number of gaussians to approximate the profile.\n",
    "nGauss = 15\n",
    "# Importing the fitting routine\n",
    "from pygme.fitting.fitn1dgauss import multi_1dgauss_mpfit\n",
    "# Doing the fit\n",
    "bestparSersic, mpfit_output, fitSersic = multi_1dgauss_mpfit(myprofile.r, myprofile.rhop, ngauss=nGauss)"
   ]
  },
  {
   "cell_type": "markdown",
   "metadata": {},
   "source": [
    "The **result** is only using 14 Gaussians as this is what the optimisation found (the routine felt it was enough to fit the profile properly). We can check the quality of that fit now to be on the safe side."
   ]
  },
  {
   "cell_type": "code",
   "execution_count": 5,
   "metadata": {
    "scrolled": true
   },
   "outputs": [
    {
     "data": {
      "text/plain": [
       "Text(0,0.5,'log($\\\\rho$)')"
      ]
     },
     "execution_count": 5,
     "metadata": {},
     "output_type": "execute_result"
    },
    {
     "data": {
      "image/png": "[encoded data removed]",
      "text/plain": [
       "<Figure size 432x288 with 1 Axes>"
      ]
     },
     "metadata": {},
     "output_type": "display_data"
    }
   ],
   "source": [
    "# Checking the quality of the fit by plotting in black the original profile and in red the fit\n",
    "plt.clf()\n",
    "plt.plot(np.log10(myprofile.r), np.log10(myprofile.rhop), 'k-')\n",
    "plt.plot(np.log10(myprofile.r), np.log10(fitSersic), 'r-')\n",
    "plt.xlabel('log(R)')\n",
    "plt.ylabel(r'log($\\rho$)')"
   ]
  },
  {
   "cell_type": "markdown",
   "metadata": {},
   "source": [
    "Hard to see the difference, meaning that the fit is very good, from 0.1pc to 6000 pc!\n",
    "\n",
    "Let's visualise the **residuals themselves** in %:"
   ]
  },
  {
   "cell_type": "code",
   "execution_count": 6,
   "metadata": {
    "scrolled": true
   },
   "outputs": [
    {
     "data": {
      "image/png": "[encoded data removed]",
      "text/plain": [
       "<Figure size 432x288 with 2 Axes>"
      ]
     },
     "metadata": {},
     "output_type": "display_data"
    }
   ],
   "source": [
    "# Plotting the residuals in %\n",
    "from pygme.fitting.examine_fit import plot_1dfit_residuals\n",
    "plot_1dfit_residuals(myprofile.r, myprofile.rhop, fitSersic)"
   ]
  },
  {
   "cell_type": "markdown",
   "metadata": {},
   "source": [
    "The residuals are much less than ~1% over the full range. Good."
   ]
  },
  {
   "cell_type": "markdown",
   "metadata": {},
   "source": [
    "# 3- Transforming the MGE fit into an N-body 3D model\n",
    "It's now time to turn this into a bona fide N body model. \n",
    "\n",
    "We have obtained the best fit Multi Gaussian parameters for a 1D Sersic profile. This can easily be converted into a 2D profile. Imagine the 1D profile is just the cut along the major-axis. Then a 2D Sersic galaxy would just have the same profile along the minor-axis, just rescaled with the axis ratio. So it is easy to turn this into a 2D *projected* model, which has a certain axis ratio (b/a) and has a Sersic profile along its major-axis.\n",
    "\n",
    "So let's use the parameters of that MGE best fit model to 1- Set up a 2D MGE model, 2- deproject the MGE model in 3D so to obtain an MGE model with 3D Gaussians, and then 2- use that 3D MGE model to generate an N-body, self-consistently.\n",
    "\n",
    "The first Step is to arrange the fitted parameters into arrays which can be used to create the model. We usually go through the saving of an ascii file where all parameters will be written up. This is also practical if you wish to change something by hand later on."
   ]
  },
  {
   "cell_type": "code",
   "execution_count": 7,
   "metadata": {},
   "outputs": [
    {
     "name": "stdout",
     "output_type": "stream",
     "text": [
      "WARNING with status 1 while Problem with Euler angles, will set the default = 0, 90, 0 = edge-on\n",
      "Edge-on deprojection\n",
      "\n",
      "Deprojected Model with inclination of 90.00\n",
      "      #       Imax              Sigma       Qx        Qy\n",
      "           Lsun/pc^2/arcsec     arcsec\n",
      "3D-G  1    3.09461892e+03           0.02314   0.80000   0.80000\n",
      "3D-G  2    1.63757624e+03           0.06082   0.80000   0.80000\n",
      "3D-G  3    8.94781290e+02           0.14692   0.80000   0.80000\n",
      "3D-G  4    4.92273509e+02           0.33101   0.80000   0.80000\n",
      "3D-G  5    2.67645936e+02           0.70172   0.80000   0.80000\n",
      "3D-G  6    1.41068514e+02           1.40830   0.80000   0.80000\n",
      "3D-G  7    7.06135182e+01           2.68738   0.80000   0.80000\n",
      "3D-G  8    3.28356042e+01           4.89226   0.80000   0.80000\n",
      "3D-G  9    1.38581052e+01           8.52112   0.80000   0.80000\n",
      "3D-G 10    5.18552871e+00          14.24374   0.80000   0.80000\n",
      "3D-G 11    1.68281785e+00          22.96043   0.80000   0.80000\n",
      "3D-G 12    4.61374100e-01          36.13093   0.80000   0.80000\n",
      "3D-G 13    9.61257659e-02          57.48209   0.80000   0.80000\n",
      "3D-G 14    8.91839436e-03         100.77330   0.80000   0.80000\n"
     ]
    }
   ],
   "source": [
    "# Number of Gaussian for the N body\n",
    "ngaussModel = bestparSersic.shape[0]\n",
    "# We add some zeros (0) to add 1- the axis ratio 2- position angle \n",
    "parModel = np.hstack((bestparSersic, np.ones((ngaussModel,2))))\n",
    "# Units - let's put the galaxy at 20 Mpc, hence ~97pc / arcsec\n",
    "pc_per_arcsec_10Mpc= 48.481368110 # pc/arcsec = Distance_Mpc * Pi / 0.648\n",
    "kpc3_to_pc3= 1.e9\n",
    "kpc_to_pc=1.e3\n",
    "\n",
    "# First column is the amplitude. We can change it with some factor to make the total mass that we want\n",
    "# factor_luminosity is set arbitrarily here so that later we get something reasonable for the luminosity\n",
    "# of the galaxy. Hence you can change that in any way you wish (if you want larger or smaller galaxies)\n",
    "factor_luminosity = 100.0 \n",
    "parModel[:,0] *= factor_luminosity\n",
    "# Transforming the sigmas (second column) into arcsec, as we did set up the radii in parsec initially\n",
    "parModel[:,1] /= pc_per_arcsec_10Mpc\n",
    "# Let's add some axis ratio - here let's decide it is b/a= 0.8 (ellipticity is 1-b/a = 0.2)\n",
    "parModel[:,2] = 0.8\n",
    "\n",
    "\n",
    "# We now create the MGE ascii file which will save the best fit parameters of the Model\n",
    "# We only have \"stars\" but in principle we could add a model for the Dark Halo or the Gas\n",
    "\n",
    "# THe parameters are:\n",
    "#     NGauss = Number of Gaussians used for modelling [stars, gas, DM]\n",
    "#     NPartGroup/NPartRealised = list of npart for groups specified, number of Particles per Group, and number of such particles \"realised\" \n",
    "\n",
    "# Import the module\n",
    "from pygme.paramMGE import create_mge\n",
    "# Do it - using 1 Million = 1000000 particles\n",
    "# The programme creates an ascii file \"Sersic_firstmodel_08.mge\" with the parameters of the projected and deprojected Gaussians\n",
    "# Since we provide 2D Gaussians (with an axis ratio), the programme will deproject these in 3D too.\n",
    "nstars = 1000\n",
    "create_mge(outfilename=\"Sersic_firstmodel_08.mge\", Gauss2D=parModel, NGauss=(ngaussModel,0,0), \n",
    "           overwrite=True, Distance=20., NGroup=1, NDynGroup=1, NPartGroup=(nstars,0,0), \n",
    "           NRealisedPartGroup=(nstars,0,0))"
   ]
  },
  {
   "cell_type": "markdown",
   "metadata": {},
   "source": [
    "# 3- Use the model\n",
    "We now have an ascii file with the right MGE parameters to use as a model.\n",
    "Let's have a look at it."
   ]
  },
  {
   "cell_type": "code",
   "execution_count": 8,
   "metadata": {},
   "outputs": [
    {
     "name": "stdout",
     "output_type": "stream",
     "text": [
      "The BetaEps vector (beta = FacBetaEps * Epsilon) is fixed to  \n",
      "                    [0.6 0.6 0.6 0.6 0.6 0.6 0.6 0.6 0.6 0.6 0.6 0.6 0.6 0.6]\n",
      "WARNING with status 1 while Both 3D and 2D Gaussians were found: \n",
      "WARNING with status 1 while We thus used the 2D Gaussians as a prior for the deprojection at 90.00 degrees\n",
      "Edge-on deprojection\n",
      "\n",
      "Deprojected Model with inclination of 90.00\n",
      "      #       Imax              Sigma       Qx        Qy\n",
      "           Lsun/pc^2/arcsec     arcsec\n",
      "3D-G  1    3.09497490e+03           0.02314   0.80000   0.80000\n",
      "3D-G  2    1.63756557e+03           0.06082   0.80000   0.80000\n",
      "3D-G  3    8.94801576e+02           0.14692   0.80000   0.80000\n",
      "3D-G  4    4.92272670e+02           0.33101   0.80000   0.80000\n",
      "3D-G  5    2.67644152e+02           0.70172   0.80000   0.80000\n",
      "3D-G  6    1.41068574e+02           1.40830   0.80000   0.80000\n",
      "3D-G  7    7.06134873e+01           2.68738   0.80000   0.80000\n",
      "3D-G  8    3.28355593e+01           4.89226   0.80000   0.80000\n",
      "3D-G  9    1.38580980e+01           8.52112   0.80000   0.80000\n",
      "3D-G 10    5.18553207e+00          14.24374   0.80000   0.80000\n",
      "3D-G 11    1.68281684e+00          22.96043   0.80000   0.80000\n",
      "3D-G 12    4.61374312e-01          36.13093   0.80000   0.80000\n",
      "3D-G 13    9.61257700e-02          57.48209   0.80000   0.80000\n",
      "3D-G 14    8.91840566e-03         100.77330   0.80000   0.80000\n",
      "Found 14 Spatial and 14 projected Gaussians\n",
      "With an Inclination of 90.00 (degrees)\n",
      "This includes 14 STAR Gaussians\n",
      "Found 1 Particle Groups\n",
      "Found 1 Dynamical Components (each may include a set of Gaussians)\n",
      "Distance set up to  20.00 Mpc\n"
     ]
    }
   ],
   "source": [
    "# Let's read the model. The output will provide some details of what it is\n",
    "myMGE = pygme.MGE(\"Sersic_firstmodel_08.mge\")"
   ]
  },
  {
   "cell_type": "code",
   "execution_count": 9,
   "metadata": {},
   "outputs": [
    {
     "name": "stdout",
     "output_type": "stream",
     "text": [
      "11.703499586065812\n"
     ]
    }
   ],
   "source": [
    "# Let's now see some basic parameters\n",
    "# Like: total Mass (in Msun)\n",
    "print(myMGE.TMGEMass / 1.e9)"
   ]
  },
  {
   "cell_type": "markdown",
   "metadata": {},
   "source": [
    "This means ~ 10^10 Msun. The use of the normalisation factor on the Luminosity is actually important (we used a factor of 100, which means that the initial model was only 10^8 Lsun).\n",
    "\n",
    "**Important Note**: when initialising the model, the Mass to Light ratio M/L is always 1 for all Gaussians. Hence the model is ~10^10 Msun and ~10^10 Lsun too :-)"
   ]
  },
  {
   "cell_type": "markdown",
   "metadata": {},
   "source": [
    "### Visualisation\n",
    "We can also visualise the model in 2D (projected) or in 3D (deprojected)"
   ]
  },
  {
   "cell_type": "code",
   "execution_count": 10,
   "metadata": {},
   "outputs": [
    {
     "data": {
      "text/plain": [
       "Text(0,0.5,'V circular [km/s]')"
      ]
     },
     "execution_count": 10,
     "metadata": {},
     "output_type": "execute_result"
    },
    {
     "data": {
      "image/png": "[encoded data removed]",
      "text/plain": [
       "<Figure size 432x288 with 1 Axes>"
      ]
     },
     "metadata": {},
     "output_type": "display_data"
    }
   ],
   "source": [
    "# Let's now compute a few things like\n",
    "# The circular velocity profile of this model\n",
    "R = np.linspace(1, 100, 100) # in arcsec\n",
    "Vc = myMGE.Vcirc(R=R)\n",
    "plot(R, Vc, 'k-')\n",
    "xlabel(\"R [arcsec]\")\n",
    "ylabel(\"V circular [km/s]\")"
   ]
  },
  {
   "cell_type": "code",
   "execution_count": 11,
   "metadata": {
    "scrolled": true
   },
   "outputs": [
    {
     "name": "stdout",
     "output_type": "stream",
     "text": [
      "NStar = 1000 particles Realised over a total of 1000\n",
      "NGas = 0 particles Realised over a total of 0\n",
      "NHalo = 0 particles Realised over a total of 0\n",
      "Starting the derivation of velocities\n",
      "End of memory alloc\n",
      "STARTING Local Sigma for each Dynamical Group\n",
      "End of sigz2 and mu2 derivation for Dynamical Group 01\n",
      "End of sigz2 and mu2 derivation for All Stars and Halo particles\n",
      "Randomizing the Velocities\n",
      "NtotalV = 986, Nrealised = 986, Nremaining = 14, Iter = 1\n",
      "NtotalV = 998, Nrealised = 12, Nremaining = 2, Iter = 2\n",
      "NtotalV = 1000, Nrealised = 2, Nremaining = 0, Iter = 3\n",
      "Rejected (recalculated) points above Vescape: 16\n"
     ]
    }
   ],
   "source": [
    "# This is the truncation radius (beyond = no particles)\n",
    "maxR = 10000.0  # in parsec\n",
    "# Making the N-body realisation\n",
    "myMGE.realise_Nbody(mcut=maxR, TruncationMethod=\"Ellipsoid\")"
   ]
  },
  {
   "cell_type": "markdown",
   "metadata": {},
   "source": [
    "# Further analysis\n",
    "Now we can look at the distribution of particles, for example the positions, or velocities"
   ]
  },
  {
   "cell_type": "code",
   "execution_count": 12,
   "metadata": {},
   "outputs": [
    {
     "data": {
      "image/png": "[encoded data removed]",
      "text/plain": [
       "<Figure size 720x360 with 2 Axes>"
      ]
     },
     "metadata": {},
     "output_type": "display_data"
    }
   ],
   "source": [
    "# Plotting Y versus X, and Z versus X, showing the slight flattening\n",
    "fig = figure(1, figsize=(10,5))\n",
    "ax1 = fig.add_subplot(121)\n",
    "ax1.plot(myMGE.x, myMGE.y, ',')\n",
    "ax1.set_aspect('equal', 'datalim')\n",
    "ax1.set_xlabel(\"X [arcsec]\")\n",
    "ax1.set_ylabel(\"Y [arcsec]\")\n",
    "ax2 = fig.add_subplot(122)\n",
    "ax2.plot(myMGE.x, myMGE.z, ',')\n",
    "ax2.set_aspect('equal', 'datalim')\n",
    "ax2.set_xlabel(\"X [arcsec]\")\n",
    "ax2.set_ylabel(\"Z [arcsec]\")\n",
    "tight_layout()"
   ]
  },
  {
   "cell_type": "code",
   "execution_count": 13,
   "metadata": {},
   "outputs": [
    {
     "data": {
      "image/png": "[encoded data removed]",
      "text/plain": [
       "<Figure size 720x360 with 2 Axes>"
      ]
     },
     "metadata": {},
     "output_type": "display_data"
    }
   ],
   "source": [
    "# Plotting Vx versus X, and Vy versus X, showing the slight flattening\n",
    "fig = figure(1, figsize=(10,5))\n",
    "ax1 = fig.add_subplot(121)\n",
    "ax1.plot(myMGE.x, myMGE.Vy, ',')\n",
    "ax1.set_xlabel(\"X [arcsec]\")\n",
    "ax1.set_ylabel(\"Vy [arcsec]\")\n",
    "ax2 = fig.add_subplot(122)\n",
    "ax2.plot(myMGE.x, myMGE.Vz, ',')\n",
    "ax2.set_xlabel(\"X [arcsec]\")\n",
    "ax2.set_ylabel(\"Vz [arcsec]\")\n",
    "tight_layout()"
   ]
  },
  {
   "cell_type": "markdown",
   "metadata": {},
   "source": [
    "### And we can convert it into a Gadget file"
   ]
  },
  {
   "cell_type": "code",
   "execution_count": 14,
   "metadata": {},
   "outputs": [
    {
     "name": "stdout",
     "output_type": "stream",
     "text": [
      "----------------------------\n",
      "Units in SIMULATION (Standard):\n",
      " Mass (solar masses)= 1.0\n",
      " Distance (kiloparcsec)= 1.0\n",
      " Velocity (km/s)= 1.0\n",
      " Constant of Gravitation (Msol/pc/yr)= 4.5e-15\n",
      " Density= 1e-09\n",
      " Time (years)= 471404520791.0317\n",
      " Specific Internal Energy= 4.5e-18\n",
      " Volume Internal Energy= 4.5e-27\n",
      "----------------------------\n",
      "----------------------------\n",
      "Units in SIMULATION (GADGET2):\n",
      " Mass (solar masses)= 10000000000.0\n",
      " Distance (kiloparcsec)= 1.0\n",
      " Velocity (km/s)= 1.0\n",
      " Constant of Gravitation (Msol/pc/yr)= 4.5e-15\n",
      " Density= 10.0\n",
      " Time (years)= 4714045.207910317\n",
      " Specific Internal Energy= 4.5e-08\n",
      " Volume Internal Energy= 4.5e-07\n",
      "----------------------------\n",
      "Writing the Gadget file : Sersic_model001_q08.dat\n",
      "WARNING: Path Sersic_model001_q08.dat  already exists! Will be overwritten\n"
     ]
    }
   ],
   "source": [
    "# Convert into a Gadget file so we don't have to recompute things several times for this particular setup\n",
    "from pygme import convert_snapshot\n",
    "convert_snapshot.mge_to_gadget(myMGE, filename=\"Sersic_model001_q08.dat\")"
   ]
  },
  {
   "cell_type": "markdown",
   "metadata": {},
   "source": [
    "### You can also use the model to compute LOSVDs"
   ]
  },
  {
   "cell_type": "code",
   "execution_count": 15,
   "metadata": {
    "collapsed": true
   },
   "outputs": [],
   "source": [
    "## Import the histogram functionalities\n",
    "from pygme.pyhist import comp_losvd\n",
    "## Number of points in the Velocity direction\n",
    "nv = 101\n",
    "maxV = 1000.0 ## in km/s, maximum velocity for the LOSVDs\n",
    "## Number of point in the X and Y direction (the total number will be nXY * nXY)\n",
    "## You can also specify a tupple for different numbers in X and Y\n",
    "nXY = 101 \n",
    "scaleR = 5000.0 # in parsec\n",
    "## Compute the LOSVDs\n",
    "los =  comp_losvd(myMGE.x, myMGE.z, myMGE.Vz, weights=myMGE.BodMass, \\\n",
    "                  limXY=[-scaleR, scaleR, -scaleR, scaleR], nXY=nXY, limV=[-maxV,maxV], nV=nv)"
   ]
  },
  {
   "cell_type": "code",
   "execution_count": 16,
   "metadata": {},
   "outputs": [
    {
     "name": "stdout",
     "output_type": "stream",
     "text": [
      "<pygme.pyhist.LOSVD object at 0x7f5ff863c2e8>\n"
     ]
    },
    {
     "data": {
      "text/plain": [
       "Text(0,0.5,'LOSVD')"
      ]
     },
     "execution_count": 16,
     "metadata": {},
     "output_type": "execute_result"
    },
    {
     "data": {
      "image/png": "[encoded data removed]",
      "text/plain": [
       "<Figure size 432x288 with 1 Axes>"
      ]
     },
     "metadata": {},
     "output_type": "display_data"
    }
   ],
   "source": [
    "print(los)\n",
    "## PLotting some LOSVD. Here the sum of all computed LOSVDs\n",
    "rlos = np.linspace(-maxV, maxV, nv)\n",
    "sumLOSVD = los.losvd.sum(axis=(0,1))\n",
    "plot(rlos, sumLOSVD)\n",
    "xlabel(\"V\")\n",
    "ylabel(\"LOSVD\")"
   ]
  },
  {
   "cell_type": "code",
   "execution_count": 17,
   "metadata": {},
   "outputs": [
    {
     "name": "stdout",
     "output_type": "stream",
     "text": [
      "------ Starting the minimisation -------\n",
      "Chi2 =  9.322678880412968e+16\n",
      "Chi2 =  5.703444643455935e+16\n",
      "Chi2 =  5.697263521999823e+16\n",
      "Chi2 =  5.697263189939335e+16\n",
      "=====\n",
      "FIT: \n",
      "=================================\n",
      "        I         V         Sig   \n",
      "   1657511643.438     0.245     41.255 \n",
      "=================================\n",
      "GH 03:  -0.0117 \n",
      "GH 04:   0.0359 \n",
      "=================================\n",
      "Chi2:  5.697263189796754e+16  Reduced Chi2:  564085464336312.2\n"
     ]
    },
    {
     "name": "stderr",
     "output_type": "stream",
     "text": [
      "/home/emsellem/anaconda3/lib/python3.6/site-packages/pygme/fitting/mpfit.py:2268: VisibleDeprecationWarning: `rank` is deprecated; use the `ndim` attribute or function instead. To find the rank of a matrix see `numpy.linalg.matrix_rank`.\n",
      "  if numpy.rank(rr) != 2:\n"
     ]
    }
   ],
   "source": [
    "# You can also fit a Gauss-Hermite function on this one\n",
    "from pygme.fitting import fitGaussHermite\n",
    "bestR, result, GHbest = fitGaussHermite.fitGH_mpfit(rlos, sumLOSVD, degGH=4)"
   ]
  },
  {
   "cell_type": "code",
   "execution_count": 18,
   "metadata": {},
   "outputs": [
    {
     "name": "stdout",
     "output_type": "stream",
     "text": [
      "[ 1.65751164e+09  2.45398326e-01  4.12548087e+01 -1.16813953e-02\n",
      "  3.59491571e-02]\n"
     ]
    },
    {
     "data": {
      "text/plain": [
       "[<matplotlib.lines.Line2D at 0x7f5ff858e4a8>]"
      ]
     },
     "execution_count": 18,
     "metadata": {},
     "output_type": "execute_result"
    },
    {
     "data": {
      "image/png": "[encoded data removed]",
      "text/plain": [
       "<Figure size 432x288 with 1 Axes>"
      ]
     },
     "metadata": {},
     "output_type": "display_data"
    }
   ],
   "source": [
    "print(bestR)\n",
    "plot(rlos, sumLOSVD, 'k-')\n",
    "plot(rlos, GHbest, 'r-')"
   ]
  },
  {
   "cell_type": "code",
   "execution_count": 20,
   "metadata": {},
   "outputs": [
    {
     "name": "stderr",
     "output_type": "stream",
     "text": [
      "/home/emsellem/anaconda3/lib/python3.6/site-packages/ipykernel_launcher.py:2: RuntimeWarning: divide by zero encountered in log10\n",
      "  \n"
     ]
    },
    {
     "data": {
      "text/plain": [
       "<matplotlib.image.AxesImage at 0x7f5ff850bef0>"
      ]
     },
     "execution_count": 20,
     "metadata": {},
     "output_type": "execute_result"
    },
    {
     "data": {
      "image/png": "[encoded data removed]",
      "text/plain": [
       "<Figure size 432x288 with 1 Axes>"
      ]
     },
     "metadata": {},
     "output_type": "display_data"
    }
   ],
   "source": [
    "# Of course too few particles...\n",
    "imshow(np.log10(los.losvd.sum(axis=2)))"
   ]
  }
 ],
 "metadata": {
  "kernelspec": {
   "display_name": "Python 3",
   "language": "python",
   "name": "python3"
  },
  "language_info": {
   "codemirror_mode": {
    "name": "ipython",
    "version": 3
   },
   "file_extension": ".py",
   "mimetype": "text/x-python",
   "name": "python",
   "nbconvert_exporter": "python",
   "pygments_lexer": "ipython3",
   "version": "3.6.10"
  }
 },
 "nbformat": 4,
 "nbformat_minor": 1
}
