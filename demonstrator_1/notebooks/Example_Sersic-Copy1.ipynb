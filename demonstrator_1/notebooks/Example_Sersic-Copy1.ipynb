{
 "cells": [
  {
   "cell_type": "markdown",
   "metadata": {},
   "source": [
    "# How to: build an N-body self-consistent model from a Sersic law\n",
    "This short tutorial explains how to use the (old-version) package *pygme* to build a self-consistent model with particles.\n",
    "The basis for this can be found in papers written in the 90's, namely:\n",
    "* Monnet et al. 1992\n",
    "* Emsellem et al. 1994\n",
    "\n",
    "See Emsellem et al. 1999 on the modelling of NGC3115 for a more detailed example."
   ]
  },
  {
   "cell_type": "markdown",
   "metadata": {},
   "source": [
    "# 0 - Importing the modules"
   ]
  },
  {
   "cell_type": "code",
   "execution_count": 14,
   "metadata": {
    "collapsed": true
   },
   "outputs": [],
   "source": [
    "# importing modules\n",
    "import numpy as np\n",
    "# pygme itself\n",
    "import pygme\n",
    "# the fitting for N 2Dimensional Gaussians\n",
    "from pygme.fitting import fitn2dgauss\n",
    "import matplotlib.pyplot as plt"
   ]
  },
  {
   "cell_type": "markdown",
   "metadata": {},
   "source": [
    "You can ignore the warnings above. This comes from an import of lmfit, which is by default not installed.\n",
    "Note: all the pygme code has been made compatible with python3 using *2to3*. A new version of pygme is being developed which is more pythonic and more robust, but this is written entirely from scratch."
   ]
  },
  {
   "cell_type": "markdown",
   "metadata": {},
   "source": [
    "# 1 - Setting up the Sersic Law\n",
    "Now we are going to use the Sersic module to set up a luminosity profile"
   ]
  },
  {
   "cell_type": "code",
   "execution_count": 15,
   "metadata": {},
   "outputs": [
    {
     "name": "stdout",
     "output_type": "stream",
     "text": [
      "/home/fraison/anaconda3/lib/python3.6/site-packages/pygme/astroprofiles/data/Abel_param.dat\n"
     ]
    }
   ],
   "source": [
    "# We import the module\n",
    "from pygme.astroprofiles import sersic\n",
    "# We first set up a sampling in radius (in parsec)\n",
    "# From let's say 1 pc to about 10000 pc\n",
    "rsamp = np.logspace(0.,4.,1001)\n",
    "# now we get the profile itself - Re = 1.5kpc, rsamp goes to 6000pc, hence 4 Re\n",
    "myprofile = sersic.SersicProfile(n=2, Ie=1.0, Re=1500.0, rsamp=rsamp)"
   ]
  },
  {
   "cell_type": "markdown",
   "metadata": {},
   "source": [
    "Let's **plot the profile** to check that everything is fine"
   ]
  },
  {
   "cell_type": "code",
   "execution_count": 16,
   "metadata": {},
   "outputs": [
    {
     "data": {
      "text/plain": [
       "Text(0, 0.5, 'Sersic law - projected profile [log10]')"
      ]
     },
     "execution_count": 16,
     "metadata": {},
     "output_type": "execute_result"
    },
    {
     "data": {
      "image/png": "[encoded data removed]",
      "text/plain": [
       "<Figure size 432x288 with 1 Axes>"
      ]
     },
     "metadata": {},
     "output_type": "display_data"
    }
   ],
   "source": [
    "%matplotlib inline\n",
    "plt.plot(myprofile.r, np.log10(myprofile.rhop))\n",
    "plt.xlabel(\"R [parsec]\")\n",
    "plt.ylabel(\"Sersic law - projected profile [log10]\")"
   ]
  },
  {
   "cell_type": "markdown",
   "metadata": {},
   "source": [
    "## 2 - Fitting the profile\n",
    "Now it's time to fit this with a **Multi-Gaussian Expansion (MGE) model**.\n",
    "\n",
    "Here it goes:"
   ]
  },
  {
   "cell_type": "code",
   "execution_count": 17,
   "metadata": {
    "scrolled": true
   },
   "outputs": [
    {
     "name": "stdout",
     "output_type": "stream",
     "text": [
      "------ Starting the minimisation -------\n",
      "Chi2 =  0.03401247668358233\n",
      "Chi2 =  0.005113104466323175\n",
      "Chi2 =  0.0008962695648104279\n",
      "Chi2 =  0.000534281586367988\n",
      "Chi2 =  0.00030591010615158107\n",
      "Chi2 =  0.00026109023808632367\n",
      "Chi2 =  0.00022064407705555983\n",
      "Chi2 =  0.00019257649192323112\n",
      "Chi2 =  0.0001730077804230775\n",
      "Chi2 =  0.00015918000536150532\n",
      "Chi2 =  0.00014926438757026603\n",
      "Chi2 =  0.0001420507229596635\n",
      "Chi2 =  0.0001367398036367624\n",
      "Chi2 =  0.00013279382559093072\n",
      "Chi2 =  0.0001298415280330887\n",
      "Chi2 =  0.00012762114016004076\n",
      "Chi2 =  0.000125944641023616\n",
      "Chi2 =  0.0001246751492948273\n",
      "Chi2 =  0.00012371176881514787\n",
      "Chi2 =  0.00012297954618742914\n",
      "Chi2 =  0.00012242234639077\n",
      "Chi2 =  0.00012199796418625517\n",
      "Chi2 =  0.00012167455670069685\n",
      "Chi2 =  0.00012142799171282818\n",
      "Chi2 =  0.00012123995263064202\n",
      "Chi2 =  0.0001210965178384601\n",
      "Chi2 =  0.00012098710859917158\n",
      "Chi2 =  0.000120903625218257\n",
      "Chi2 =  0.00012083991899065288\n",
      "Chi2 =  0.0001207913117609147\n",
      "Chi2 =  0.00012075422849600156\n",
      "Chi2 =  0.00012072593416843183\n",
      "Chi2 =  0.0001207043437584449\n",
      "Chi2 =  0.00012068786971767843\n",
      "Chi2 =  0.00012067530604355144\n",
      "Chi2 =  0.00012066572056348995\n",
      "Chi2 =  0.00012065840532448307\n",
      "Chi2 =  0.00012065282748981197\n",
      "Chi2 =  0.00012064857084687113\n",
      "Chi2 =  0.00012064532191861626\n",
      "Chi2 =  0.00012064284499305928\n",
      "Chi2 =  0.0001206409572026662\n",
      "Chi2 =  0.00012063951621139979\n",
      "Chi2 =  0.00012063841704083126\n",
      "Chi2 =  0.0001206375789289242\n",
      "Chi2 =  0.00012063693999817683\n",
      "Chi2 =  0.00012063645142151248\n",
      "Chi2 =  0.00012063607961780753\n",
      "Chi2 =  0.0001206357959020167\n",
      "Chi2 =  0.00012063557921247471\n",
      "Chi2 =  0.00012063541415725051\n",
      "Chi2 =  0.0001206352883862447\n",
      "Chi2 =  0.00012063519236697435\n",
      "Chi2 =  0.00012063511905129955\n",
      "Chi2 =  0.00012063506329291193\n",
      "Chi2 =  0.00012063502094783788\n",
      "Chi2 =  0.00012063498861178174\n",
      "Chi2 =  0.00012063496375573706\n",
      "Chi2 =  0.00012063494487905126\n",
      "Chi2 =  0.00012063493027438874\n",
      "Chi2 =  0.00012063491917699635\n",
      "Chi2 =  0.00012063491066312181\n",
      "Chi2 =  0.000120634904250137\n",
      "Chi2 =  0.00012063489927972424\n",
      "Chi2 =  0.00012063489552563441\n",
      "Chi2 =  0.00012063489264992644\n",
      "Chi2 =  0.00012063489048235032\n",
      "Chi2 =  0.00012063488880815088\n",
      "Chi2 =  0.00012063488754126377\n",
      "Chi2 =  0.00012063488659694309\n",
      "Chi2 =  0.00012063488585647673\n",
      "Chi2 =  0.0001206348852560972\n",
      "Chi2 =  0.00012063488484851107\n",
      "Chi2 =  0.0001206348845047423\n",
      "Chi2 =  0.00012063488425012897\n",
      "Chi2 =  0.00012063488406692496\n",
      "Chi2 =  0.00012063488393030597\n",
      "Chi2 =  0.00012063488382568785\n",
      "Chi2 =  0.0001206348837394932\n",
      "Chi2 =  0.00012063488367950739\n",
      "Chi2 =  0.00012063488363945924\n",
      "Chi2 =  0.0001206348835978073\n",
      "Chi2 =  0.00012063488357409845\n",
      "Chi2 =  0.00012063488355775011\n",
      "Chi2 =  0.00012063488354123557\n",
      "Chi2 =  0.00012063488352960554\n",
      "=============================\n",
      "FIT:      Imax       Sig   \n",
      "=============================\n",
      "GAUSS 01: 1.695e+00     1.065\n",
      "GAUSS 02: 2.342e+00     2.717\n",
      "GAUSS 03: 3.087e+00     6.415\n",
      "GAUSS 04: 3.842e+00    14.199\n",
      "GAUSS 05: 4.475e+00    29.697\n",
      "GAUSS 06: 4.819e+00    59.011\n",
      "GAUSS 07: 4.730e+00   111.835\n",
      "GAUSS 08: 4.158e+00   202.737\n",
      "GAUSS 09: 3.213e+00   352.429\n",
      "GAUSS 10: 2.139e+00   588.980\n",
      "GAUSS 11: 1.207e+00   949.773\n",
      "GAUSS 12: 5.699e-01  1491.076\n",
      "GAUSS 13: 2.176e-01  2341.485\n",
      "GAUSS 14: 5.091e-02  3969.777\n",
      "GAUSS 15: 8.473e-04  14610098301.942\n",
      "Chi2:  0.00012063488352961182  Reduced Chi2:  1.2051436916045136e-07\n"
     ]
    },
    {
     "name": "stderr",
     "output_type": "stream",
     "text": [
      "/home/fraison/anaconda3/lib/python3.6/site-packages/pygme/fitting/mpfit.py:2268: VisibleDeprecationWarning: `rank` is deprecated; use the `ndim` attribute or function instead. To find the rank of a matrix see `numpy.linalg.matrix_rank`.\n",
      "  if numpy.rank(rr) != 2:\n"
     ]
    }
   ],
   "source": [
    "# Defining the maximum number of gaussians to approximate the profile.\n",
    "nGauss = 15\n",
    "# Importing the fitting routine\n",
    "from pygme.fitting.fitn1dgauss import multi_1dgauss_mpfit\n",
    "# Doing the fit\n",
    "bestparSersic, mpfit_output, fitSersic = multi_1dgauss_mpfit(myprofile.r, myprofile.rhop, ngauss=nGauss)"
   ]
  },
  {
   "cell_type": "markdown",
   "metadata": {},
   "source": [
    "The **result** is only using 14 Gaussians as this is what the optimisation found (the routine felt it was enough to fit the profile properly). We can check the quality of that fit now to be on the safe side."
   ]
  },
  {
   "cell_type": "code",
   "execution_count": 18,
   "metadata": {
    "scrolled": true
   },
   "outputs": [
    {
     "data": {
      "text/plain": [
       "Text(0, 0.5, 'log($\\\\rho$)')"
      ]
     },
     "execution_count": 18,
     "metadata": {},
     "output_type": "execute_result"
    },
    {
     "data": {
      "image/png": "[encoded data removed]",
      "text/plain": [
       "<Figure size 432x288 with 1 Axes>"
      ]
     },
     "metadata": {},
     "output_type": "display_data"
    }
   ],
   "source": [
    "# Checking the quality of the fit by plotting in black the original profile and in red the fit\n",
    "plt.clf()\n",
    "plt.plot(np.log10(myprofile.r), np.log10(myprofile.rhop), 'k-')\n",
    "plt.plot(np.log10(myprofile.r), np.log10(fitSersic), 'r-')\n",
    "plt.xlabel('log(R)')\n",
    "plt.ylabel(r'log($\\rho$)')"
   ]
  },
  {
   "cell_type": "markdown",
   "metadata": {},
   "source": [
    "Hard to see the difference, meaning that the fit is very good, from 0.1pc to 6000 pc!\n",
    "\n",
    "Let's visualise the **residuals themselves** in %:"
   ]
  },
  {
   "cell_type": "code",
   "execution_count": 19,
   "metadata": {
    "scrolled": true
   },
   "outputs": [
    {
     "data": {
      "image/png": "[encoded data removed]",
      "text/plain": [
       "<Figure size 432x288 with 2 Axes>"
      ]
     },
     "metadata": {},
     "output_type": "display_data"
    }
   ],
   "source": [
    "# Plotting the residuals in %\n",
    "from pygme.fitting.examine_fit import plot_1dfit_residuals\n",
    "plot_1dfit_residuals(myprofile.r, myprofile.rhop, fitSersic)"
   ]
  },
  {
   "cell_type": "markdown",
   "metadata": {},
   "source": [
    "The residuals are much less than ~1% over the full range. Good."
   ]
  },
  {
   "cell_type": "markdown",
   "metadata": {},
   "source": [
    "# 3- Transforming the MGE fit into an N-body 3D model\n",
    "It's now time to turn this into a bona fide N body model. \n",
    "\n",
    "We have obtained the best fit Multi Gaussian parameters for a 1D Sersic profile. This can easily be converted into a 2D profile. Imagine the 1D profile is just the cut along the major-axis. Then a 2D Sersic galaxy would just have the same profile along the minor-axis, just rescaled with the axis ratio. So it is easy to turn this into a 2D *projected* model, which has a certain axis ratio (b/a) and has a Sersic profile along its major-axis.\n",
    "\n",
    "So let's use the parameters of that MGE best fit model to 1- Set up a 2D MGE model, 2- deproject the MGE model in 3D so to obtain an MGE model with 3D Gaussians, and then 2- use that 3D MGE model to generate an N-body, self-consistently.\n",
    "\n",
    "The first Step is to arrange the fitted parameters into arrays which can be used to create the model. We usually go through the saving of an ascii file where all parameters will be written up. This is also practical if you wish to change something by hand later on."
   ]
  },
  {
   "cell_type": "code",
   "execution_count": 20,
   "metadata": {},
   "outputs": [
    {
     "name": "stdout",
     "output_type": "stream",
     "text": [
      "WARNING with status 1 while Problem with Euler angles, will set the default = 0, 90, 0 = edge-on\n",
      "Edge-on deprojection\n",
      "\n",
      "Deprojected Model with inclination of 90.00\n",
      "      #       Imax              Sigma       Qx        Qy\n",
      "           Lsun/pc^2/arcsec     arcsec\n",
      "3D-G  1    3.07850209e+03           0.02197   0.80000   0.80000\n",
      "3D-G  2    1.66673897e+03           0.05605   0.80000   0.80000\n",
      "3D-G  3    9.30767430e+02           0.13232   0.80000   0.80000\n",
      "3D-G  4    5.23367750e+02           0.29288   0.80000   0.80000\n",
      "3D-G  5    2.91428383e+02           0.61255   0.80000   0.80000\n",
      "3D-G  6    1.57953358e+02           1.21719   0.80000   0.80000\n",
      "3D-G  7    8.17970421e+01           2.30677   0.80000   0.80000\n",
      "3D-G  8    3.96662734e+01           4.18175   0.80000   0.80000\n",
      "3D-G  9    1.76303879e+01           7.26938   0.80000   0.80000\n",
      "3D-G 10    7.02579442e+00          12.14858   0.80000   0.80000\n",
      "3D-G 11    2.45791789e+00          19.59047   0.80000   0.80000\n",
      "3D-G 12    7.39217331e-01          30.75565   0.80000   0.80000\n",
      "3D-G 13    1.79773833e-01          48.29659   0.80000   0.80000\n",
      "3D-G 14    2.48064159e-02          81.88253   0.80000   0.80000\n",
      "3D-G 15    1.12165233e-10        301354909.55603   0.80000   0.80000\n"
     ]
    }
   ],
   "source": [
    "# Number of Gaussian for the N body\n",
    "ngaussModel = bestparSersic.shape[0]\n",
    "# We add some zeros (0) to add 1- the axis ratio 2- position angle \n",
    "parModel = np.hstack((bestparSersic, np.ones((ngaussModel,2))))\n",
    "# Units - let's put the galaxy at 20 Mpc, hence ~97pc / arcsec\n",
    "pc_per_arcsec_10Mpc= 48.481368110 # pc/arcsec = Distance_Mpc * Pi / 0.648\n",
    "kpc3_to_pc3= 1.e9\n",
    "kpc_to_pc=1.e3\n",
    "\n",
    "# First column is the amplitude. We can change it with some factor to make the total mass that we want\n",
    "# factor_luminosity is set arbitrarily here so that later we get something reasonable for the luminosity\n",
    "# of the galaxy. Hence you can change that in any way you wish (if you want larger or smaller galaxies)\n",
    "factor_luminosity = 100.0 \n",
    "parModel[:,0] *= factor_luminosity\n",
    "# Transforming the sigmas (second column) into arcsec, as we did set up the radii in parsec initially\n",
    "parModel[:,1] /= pc_per_arcsec_10Mpc\n",
    "# Let's add some axis ratio - here let's decide it is b/a= 0.8 (ellipticity is 1-b/a = 0.2)\n",
    "parModel[:,2] = 0.8\n",
    "\n",
    "\n",
    "# We now create the MGE ascii file which will save the best fit parameters of the Model\n",
    "# We only have \"stars\" but in principle we could add a model for the Dark Halo or the Gas\n",
    "\n",
    "# THe parameters are:\n",
    "#     NGauss = Number of Gaussians used for modelling [stars, gas, DM]\n",
    "#     NPartGroup/NPartRealised = list of npart for groups specified, number of Particles per Group, and number of such particles \"realised\" \n",
    "\n",
    "# Import the module\n",
    "from pygme.paramMGE import create_mge\n",
    "# Do it - using 1 Million = 1000000 particles\n",
    "# The programme creates an ascii file \"Sersic_firstmodel_08.mge\" with the parameters of the projected and deprojected Gaussians\n",
    "# Since we provide 2D Gaussians (with an axis ratio), the programme will deproject these in 3D too.\n",
    "nstars = 1000\n",
    "create_mge(outfilename=\"Sersic_firstmodel_08.mge\", Gauss2D=parModel, NGauss=(ngaussModel,0,0), \n",
    "           overwrite=True, Distance=20., NGroup=1, NDynGroup=1, NPartGroup=(nstars,0,0), \n",
    "           NRealisedPartGroup=(nstars,0,0))"
   ]
  },
  {
   "cell_type": "markdown",
   "metadata": {},
   "source": [
    "# 3- Use the model\n",
    "We now have an ascii file with the right MGE parameters to use as a model.\n",
    "Let's have a look at it."
   ]
  },
  {
   "cell_type": "code",
   "execution_count": 21,
   "metadata": {},
   "outputs": [
    {
     "name": "stdout",
     "output_type": "stream",
     "text": [
      "The BetaEps vector (beta = FacBetaEps * Epsilon) is fixed to  \n",
      "                    [0.6 0.6 0.6 0.6 0.6 0.6 0.6 0.6 0.6 0.6 0.6 0.6 0.6 0.6 0.6]\n",
      "WARNING with status 1 while Both 3D and 2D Gaussians were found: \n",
      "WARNING with status 1 while We thus used the 2D Gaussians as a prior for the deprojection at 90.00 degrees\n",
      "Edge-on deprojection\n",
      "\n",
      "Deprojected Model with inclination of 90.00\n",
      "      #       Imax              Sigma       Qx        Qy\n",
      "           Lsun/pc^2/arcsec     arcsec\n",
      "3D-G  1    3.07862868e+03           0.02197   0.80000   0.80000\n",
      "3D-G  2    1.66671750e+03           0.05605   0.80000   0.80000\n",
      "3D-G  3    9.30790951e+02           0.13232   0.80000   0.80000\n",
      "3D-G  4    5.23365196e+02           0.29288   0.80000   0.80000\n",
      "3D-G  5    2.91430087e+02           0.61255   0.80000   0.80000\n",
      "3D-G  6    1.57953205e+02           1.21719   0.80000   0.80000\n",
      "3D-G  7    8.17972019e+01           2.30677   0.80000   0.80000\n",
      "3D-G  8    3.96662201e+01           4.18175   0.80000   0.80000\n",
      "3D-G  9    1.76303623e+01           7.26938   0.80000   0.80000\n",
      "3D-G 10    7.02578424e+00          12.14858   0.80000   0.80000\n",
      "3D-G 11    2.45792645e+00          19.59047   0.80000   0.80000\n",
      "3D-G 12    7.39217742e-01          30.75565   0.80000   0.80000\n",
      "3D-G 13    1.79773771e-01          48.29659   0.80000   0.80000\n",
      "3D-G 14    2.48063980e-02          81.88253   0.80000   0.80000\n",
      "3D-G 15    1.12165226e-10        301354909.55603   0.80000   0.80000\n",
      "Found 15 Spatial and 15 projected Gaussians\n",
      "With an Inclination of 90.00 (degrees)\n",
      "This includes 15 STAR Gaussians\n",
      "Found 1 Particle Groups\n",
      "Found 1 Dynamical Components (each may include a set of Gaussians)\n",
      "Distance set up to  20.00 Mpc\n"
     ]
    }
   ],
   "source": [
    "# Let's read the model. The output will provide some details of what it is\n",
    "myMGE = pygme.MGE(\"Sersic_firstmodel_08.mge\")"
   ]
  },
  {
   "cell_type": "code",
   "execution_count": 22,
   "metadata": {},
   "outputs": [
    {
     "name": "stdout",
     "output_type": "stream",
     "text": [
      "363632394049.29785\n"
     ]
    }
   ],
   "source": [
    "# Let's now see some basic parameters\n",
    "# Like: total Mass (in Msun)\n",
    "print(myMGE.TMGEMass / 1.e9)"
   ]
  },
  {
   "cell_type": "markdown",
   "metadata": {},
   "source": [
    "This means ~ 10^10 Msun. The use of the normalisation factor on the Luminosity is actually important (we used a factor of 100, which means that the initial model was only 10^8 Lsun).\n",
    "\n",
    "**Important Note**: when initialising the model, the Mass to Light ratio M/L is always 1 for all Gaussians. Hence the model is ~10^10 Msun and ~10^10 Lsun too :-)"
   ]
  },
  {
   "cell_type": "markdown",
   "metadata": {},
   "source": [
    "### Visualisation\n",
    "We can also visualise the model in 2D (projected) or in 3D (deprojected)"
   ]
  },
  {
   "cell_type": "code",
   "execution_count": 13,
   "metadata": {},
   "outputs": [
    {
     "ename": "NameError",
     "evalue": "name 'myMGE' is not defined",
     "output_type": "error",
     "traceback": [
      "\u001b[0;31m---------------------------------------------------------------------------\u001b[0m",
      "\u001b[0;31mNameError\u001b[0m                                 Traceback (most recent call last)",
      "\u001b[0;32m<ipython-input-13-57bf8b00d65e>\u001b[0m in \u001b[0;36m<module>\u001b[0;34m()\u001b[0m\n\u001b[1;32m      2\u001b[0m \u001b[0;31m# The circular velocity profile of this model\u001b[0m\u001b[0;34m\u001b[0m\u001b[0;34m\u001b[0m\u001b[0;34m\u001b[0m\u001b[0m\n\u001b[1;32m      3\u001b[0m \u001b[0mR\u001b[0m \u001b[0;34m=\u001b[0m \u001b[0mnp\u001b[0m\u001b[0;34m.\u001b[0m\u001b[0mlinspace\u001b[0m\u001b[0;34m(\u001b[0m\u001b[0;36m1\u001b[0m\u001b[0;34m,\u001b[0m \u001b[0;36m100\u001b[0m\u001b[0;34m,\u001b[0m \u001b[0;36m100\u001b[0m\u001b[0;34m)\u001b[0m \u001b[0;31m# in arcsec\u001b[0m\u001b[0;34m\u001b[0m\u001b[0;34m\u001b[0m\u001b[0m\n\u001b[0;32m----> 4\u001b[0;31m \u001b[0mVc\u001b[0m \u001b[0;34m=\u001b[0m \u001b[0mmyMGE\u001b[0m\u001b[0;34m.\u001b[0m\u001b[0mVcirc\u001b[0m\u001b[0;34m(\u001b[0m\u001b[0mR\u001b[0m\u001b[0;34m=\u001b[0m\u001b[0mR\u001b[0m\u001b[0;34m)\u001b[0m\u001b[0;34m\u001b[0m\u001b[0;34m\u001b[0m\u001b[0m\n\u001b[0m\u001b[1;32m      5\u001b[0m \u001b[0mplot\u001b[0m\u001b[0;34m(\u001b[0m\u001b[0mR\u001b[0m\u001b[0;34m,\u001b[0m \u001b[0mVc\u001b[0m\u001b[0;34m,\u001b[0m \u001b[0;34m'k-'\u001b[0m\u001b[0;34m)\u001b[0m\u001b[0;34m\u001b[0m\u001b[0;34m\u001b[0m\u001b[0m\n\u001b[1;32m      6\u001b[0m \u001b[0mxlabel\u001b[0m\u001b[0;34m(\u001b[0m\u001b[0;34m\"R [arcsec]\"\u001b[0m\u001b[0;34m)\u001b[0m\u001b[0;34m\u001b[0m\u001b[0;34m\u001b[0m\u001b[0m\n",
      "\u001b[0;31mNameError\u001b[0m: name 'myMGE' is not defined"
     ]
    }
   ],
   "source": [
    "# Let's now compute a few things like\n",
    "# The circular velocity profile of this model\n",
    "R = np.linspace(1, 100, 100) # in arcsec\n",
    "Vc = myMGE.Vcirc(R=R)\n",
    "plot(R, Vc, 'k-')\n",
    "xlabel(\"R [arcsec]\")\n",
    "ylabel(\"V circular [km/s]\")"
   ]
  },
  {
   "cell_type": "code",
   "execution_count": 2,
   "metadata": {
    "scrolled": true
   },
   "outputs": [
    {
     "ename": "NameError",
     "evalue": "name 'myMGE' is not defined",
     "output_type": "error",
     "traceback": [
      "\u001b[0;31m---------------------------------------------------------------------------\u001b[0m",
      "\u001b[0;31mNameError\u001b[0m                                 Traceback (most recent call last)",
      "\u001b[0;32m<ipython-input-2-a0518697a3f0>\u001b[0m in \u001b[0;36m<module>\u001b[0;34m()\u001b[0m\n\u001b[1;32m      2\u001b[0m \u001b[0mmaxR\u001b[0m \u001b[0;34m=\u001b[0m \u001b[0;36m10000.0\u001b[0m  \u001b[0;31m# in parsec\u001b[0m\u001b[0;34m\u001b[0m\u001b[0;34m\u001b[0m\u001b[0m\n\u001b[1;32m      3\u001b[0m \u001b[0;31m# Making the N-body realisation\u001b[0m\u001b[0;34m\u001b[0m\u001b[0;34m\u001b[0m\u001b[0;34m\u001b[0m\u001b[0m\n\u001b[0;32m----> 4\u001b[0;31m \u001b[0mmyMGE\u001b[0m\u001b[0;34m.\u001b[0m\u001b[0mrealise_Nbody\u001b[0m\u001b[0;34m(\u001b[0m\u001b[0mmcut\u001b[0m\u001b[0;34m=\u001b[0m\u001b[0mmaxR\u001b[0m\u001b[0;34m,\u001b[0m \u001b[0mTruncationMethod\u001b[0m\u001b[0;34m=\u001b[0m\u001b[0;34m\"Ellipsoid\"\u001b[0m\u001b[0;34m)\u001b[0m\u001b[0;34m\u001b[0m\u001b[0;34m\u001b[0m\u001b[0m\n\u001b[0m",
      "\u001b[0;31mNameError\u001b[0m: name 'myMGE' is not defined"
     ]
    }
   ],
   "source": [
    "# This is the truncation radius (beyond = no particles)\n",
    "maxR = 10000.0  # in parsec\n",
    "# Making the N-body realisation\n",
    "myMGE.realise_Nbody(mcut=maxR, TruncationMethod=\"Ellipsoid\")"
   ]
  },
  {
   "cell_type": "markdown",
   "metadata": {},
   "source": [
    "# Further analysis\n",
    "Now we can look at the distribution of particles, for example the positions, or velocities"
   ]
  },
  {
   "cell_type": "code",
   "execution_count": 12,
   "metadata": {},
   "outputs": [
    {
     "data": {
      "image/png": "[encoded data removed]",
      "text/plain": [
       "<Figure size 720x360 with 2 Axes>"
      ]
     },
     "metadata": {},
     "output_type": "display_data"
    }
   ],
   "source": [
    "# Plotting Y versus X, and Z versus X, showing the slight flattening\n",
    "fig = figure(1, figsize=(10,5))\n",
    "ax1 = fig.add_subplot(121)\n",
    "ax1.plot(myMGE.x, myMGE.y, ',')\n",
    "ax1.set_aspect('equal', 'datalim')\n",
    "ax1.set_xlabel(\"X [arcsec]\")\n",
    "ax1.set_ylabel(\"Y [arcsec]\")\n",
    "ax2 = fig.add_subplot(122)\n",
    "ax2.plot(myMGE.x, myMGE.z, ',')\n",
    "ax2.set_aspect('equal', 'datalim')\n",
    "ax2.set_xlabel(\"X [arcsec]\")\n",
    "ax2.set_ylabel(\"Z [arcsec]\")\n",
    "tight_layout()"
   ]
  },
  {
   "cell_type": "code",
   "execution_count": 13,
   "metadata": {},
   "outputs": [
    {
     "data": {
      "image/png": "[encoded data removed]",
      "text/plain": [
       "<Figure size 720x360 with 2 Axes>"
      ]
     },
     "metadata": {},
     "output_type": "display_data"
    }
   ],
   "source": [
    "# Plotting Vx versus X, and Vy versus X, showing the slight flattening\n",
    "fig = figure(1, figsize=(10,5))\n",
    "ax1 = fig.add_subplot(121)\n",
    "ax1.plot(myMGE.x, myMGE.Vy, ',')\n",
    "ax1.set_xlabel(\"X [arcsec]\")\n",
    "ax1.set_ylabel(\"Vy [arcsec]\")\n",
    "ax2 = fig.add_subplot(122)\n",
    "ax2.plot(myMGE.x, myMGE.Vz, ',')\n",
    "ax2.set_xlabel(\"X [arcsec]\")\n",
    "ax2.set_ylabel(\"Vz [arcsec]\")\n",
    "tight_layout()"
   ]
  },
  {
   "cell_type": "markdown",
   "metadata": {},
   "source": [
    "### And we can convert it into a Gadget file"
   ]
  },
  {
   "cell_type": "code",
   "execution_count": 14,
   "metadata": {},
   "outputs": [
    {
     "name": "stdout",
     "output_type": "stream",
     "text": [
      "----------------------------\n",
      "Units in SIMULATION (Standard):\n",
      " Mass (solar masses)= 1.0\n",
      " Distance (kiloparcsec)= 1.0\n",
      " Velocity (km/s)= 1.0\n",
      " Constant of Gravitation (Msol/pc/yr)= 4.5e-15\n",
      " Density= 1e-09\n",
      " Time (years)= 471404520791.0317\n",
      " Specific Internal Energy= 4.5e-18\n",
      " Volume Internal Energy= 4.5e-27\n",
      "----------------------------\n",
      "----------------------------\n",
      "Units in SIMULATION (GADGET2):\n",
      " Mass (solar masses)= 10000000000.0\n",
      " Distance (kiloparcsec)= 1.0\n",
      " Velocity (km/s)= 1.0\n",
      " Constant of Gravitation (Msol/pc/yr)= 4.5e-15\n",
      " Density= 10.0\n",
      " Time (years)= 4714045.207910317\n",
      " Specific Internal Energy= 4.5e-08\n",
      " Volume Internal Energy= 4.5e-07\n",
      "----------------------------\n",
      "Writing the Gadget file : Sersic_model001_q08.dat\n",
      "WARNING: Path Sersic_model001_q08.dat  already exists! Will be overwritten\n"
     ]
    }
   ],
   "source": [
    "# Convert into a Gadget file so we don't have to recompute things several times for this particular setup\n",
    "from pygme import convert_snapshot\n",
    "convert_snapshot.mge_to_gadget(myMGE, filename=\"Sersic_model001_q08.dat\")"
   ]
  },
  {
   "cell_type": "markdown",
   "metadata": {},
   "source": [
    "### You can also use the model to compute LOSVDs"
   ]
  },
  {
   "cell_type": "code",
   "execution_count": 15,
   "metadata": {
    "collapsed": true
   },
   "outputs": [],
   "source": [
    "## Import the histogram functionalities\n",
    "from pygme.pyhist import comp_losvd\n",
    "## Number of points in the Velocity direction\n",
    "nv = 101\n",
    "maxV = 1000.0 ## in km/s, maximum velocity for the LOSVDs\n",
    "## Number of point in the X and Y direction (the total number will be nXY * nXY)\n",
    "## You can also specify a tupple for different numbers in X and Y\n",
    "nXY = 101 \n",
    "scaleR = 5000.0 # in parsec\n",
    "## Compute the LOSVDs\n",
    "los =  comp_losvd(myMGE.x, myMGE.z, myMGE.Vz, weights=myMGE.BodMass, \\\n",
    "                  limXY=[-scaleR, scaleR, -scaleR, scaleR], nXY=nXY, limV=[-maxV,maxV], nV=nv)"
   ]
  },
  {
   "cell_type": "code",
   "execution_count": 16,
   "metadata": {},
   "outputs": [
    {
     "name": "stdout",
     "output_type": "stream",
     "text": [
      "<pygme.pyhist.LOSVD object at 0x7f5ff863c2e8>\n"
     ]
    },
    {
     "data": {
      "text/plain": [
       "Text(0,0.5,'LOSVD')"
      ]
     },
     "execution_count": 16,
     "metadata": {},
     "output_type": "execute_result"
    },
    {
     "data": {
      "image/png": "[encoded data removed]",
      "text/plain": [
       "<Figure size 432x288 with 1 Axes>"
      ]
     },
     "metadata": {},
     "output_type": "display_data"
    }
   ],
   "source": [
    "print(los)\n",
    "## PLotting some LOSVD. Here the sum of all computed LOSVDs\n",
    "rlos = np.linspace(-maxV, maxV, nv)\n",
    "sumLOSVD = los.losvd.sum(axis=(0,1))\n",
    "plot(rlos, sumLOSVD)\n",
    "xlabel(\"V\")\n",
    "ylabel(\"LOSVD\")"
   ]
  },
  {
   "cell_type": "code",
   "execution_count": 17,
   "metadata": {},
   "outputs": [
    {
     "name": "stdout",
     "output_type": "stream",
     "text": [
      "------ Starting the minimisation -------\n",
      "Chi2 =  9.322678880412968e+16\n",
      "Chi2 =  5.703444643455935e+16\n",
      "Chi2 =  5.697263521999823e+16\n",
      "Chi2 =  5.697263189939335e+16\n",
      "=====\n",
      "FIT: \n",
      "=================================\n",
      "        I         V         Sig   \n",
      "   1657511643.438     0.245     41.255 \n",
      "=================================\n",
      "GH 03:  -0.0117 \n",
      "GH 04:   0.0359 \n",
      "=================================\n",
      "Chi2:  5.697263189796754e+16  Reduced Chi2:  564085464336312.2\n"
     ]
    },
    {
     "name": "stderr",
     "output_type": "stream",
     "text": [
      "/home/emsellem/anaconda3/lib/python3.6/site-packages/pygme/fitting/mpfit.py:2268: VisibleDeprecationWarning: `rank` is deprecated; use the `ndim` attribute or function instead. To find the rank of a matrix see `numpy.linalg.matrix_rank`.\n",
      "  if numpy.rank(rr) != 2:\n"
     ]
    }
   ],
   "source": [
    "# You can also fit a Gauss-Hermite function on this one\n",
    "from pygme.fitting import fitGaussHermite\n",
    "bestR, result, GHbest = fitGaussHermite.fitGH_mpfit(rlos, sumLOSVD, degGH=4)"
   ]
  },
  {
   "cell_type": "code",
   "execution_count": 18,
   "metadata": {},
   "outputs": [
    {
     "name": "stdout",
     "output_type": "stream",
     "text": [
      "[ 1.65751164e+09  2.45398326e-01  4.12548087e+01 -1.16813953e-02\n",
      "  3.59491571e-02]\n"
     ]
    },
    {
     "data": {
      "text/plain": [
       "[<matplotlib.lines.Line2D at 0x7f5ff858e4a8>]"
      ]
     },
     "execution_count": 18,
     "metadata": {},
     "output_type": "execute_result"
    },
    {
     "data": {
      "image/png": "[encoded data removed]",
      "text/plain": [
       "<Figure size 432x288 with 1 Axes>"
      ]
     },
     "metadata": {},
     "output_type": "display_data"
    }
   ],
   "source": [
    "print(bestR)\n",
    "plot(rlos, sumLOSVD, 'k-')\n",
    "plot(rlos, GHbest, 'r-')"
   ]
  },
  {
   "cell_type": "code",
   "execution_count": 20,
   "metadata": {},
   "outputs": [
    {
     "name": "stderr",
     "output_type": "stream",
     "text": [
      "/home/emsellem/anaconda3/lib/python3.6/site-packages/ipykernel_launcher.py:2: RuntimeWarning: divide by zero encountered in log10\n",
      "  \n"
     ]
    },
    {
     "data": {
      "text/plain": [
       "<matplotlib.image.AxesImage at 0x7f5ff850bef0>"
      ]
     },
     "execution_count": 20,
     "metadata": {},
     "output_type": "execute_result"
    },
    {
     "data": {
      "image/png": "[encoded data removed]",
      "text/plain": [
       "<Figure size 432x288 with 1 Axes>"
      ]
     },
     "metadata": {},
     "output_type": "display_data"
    }
   ],
   "source": [
    "# Of course too few particles...\n",
    "imshow(np.log10(los.losvd.sum(axis=2)))"
   ]
  }
 ],
 "metadata": {
  "kernelspec": {
   "display_name": "Python 3",
   "language": "python",
   "name": "python3"
  },
  "language_info": {
   "codemirror_mode": {
    "name": "ipython",
    "version": 3
   },
   "file_extension": ".py",
   "mimetype": "text/x-python",
   "name": "python",
   "nbconvert_exporter": "python",
   "pygments_lexer": "ipython3",
   "version": "3.6.10"
  }
 },
 "nbformat": 4,
 "nbformat_minor": 1
}
